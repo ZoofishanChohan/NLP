{
  "nbformat": 4,
  "nbformat_minor": 0,
  "metadata": {
    "colab": {
      "provenance": [],
      "authorship_tag": "ABX9TyM2nv6qlrUpzVLCUsWeaejE",
      "include_colab_link": true
    },
    "kernelspec": {
      "name": "python3",
      "display_name": "Python 3"
    },
    "language_info": {
      "name": "python"
    }
  },
  "cells": [
    {
      "cell_type": "markdown",
      "metadata": {
        "id": "view-in-github",
        "colab_type": "text"
      },
      "source": [
        "<a href=\"https://colab.research.google.com/github/ZoofishanChohan/NLP/blob/main/Text_Preprocessing.ipynb\" target=\"_parent\"><img src=\"https://colab.research.google.com/assets/colab-badge.svg\" alt=\"Open In Colab\"/></a>"
      ]
    },
    {
      "cell_type": "code",
      "execution_count": 1,
      "metadata": {
        "id": "n5tW1k4vedY-"
      },
      "outputs": [],
      "source": [
        "from tensorflow.keras.layers import TextVectorization"
      ]
    },
    {
      "cell_type": "code",
      "source": [
        "# creating a data set\n",
        "sentences = [\n",
        "\n",
        "             \"I love my dog and papi\",\n",
        "             \"I love my cat and simba and chutki and buffy\",\n",
        "             \"You love my dog and my cat\",\n",
        "             \"Do you think my dog is amazing?\"\n",
        "\n",
        "\n",
        "]"
      ],
      "metadata": {
        "id": "jBN9EmpZfFaX"
      },
      "execution_count": 11,
      "outputs": []
    },
    {
      "cell_type": "code",
      "source": [
        "MAX_VOCAB_SIZE = 20000"
      ],
      "metadata": {
        "id": "U0wXvZBrfnUF"
      },
      "execution_count": 4,
      "outputs": []
    },
    {
      "cell_type": "code",
      "source": [
        "vectorization_layer = TextVectorization(max_tokens=MAX_VOCAB_SIZE,\n",
        "                                         #output_mode=\"int\",\n",
        "                                         #output_sequence_length=10\n",
        "                                        )"
      ],
      "metadata": {
        "id": "r2iTCbjAOVqU"
      },
      "execution_count": 5,
      "outputs": []
    },
    {
      "cell_type": "code",
      "source": [
        "vectorization_layer.adapt(sentences)"
      ],
      "metadata": {
        "id": "fk6KeuzzO5Pv"
      },
      "execution_count": 12,
      "outputs": []
    },
    {
      "cell_type": "code",
      "source": [
        "sequences = vectorization_layer(sentences)"
      ],
      "metadata": {
        "id": "3Pp7CG-qO9bg"
      },
      "execution_count": 13,
      "outputs": []
    },
    {
      "cell_type": "code",
      "source": [
        "sequences"
      ],
      "metadata": {
        "colab": {
          "base_uri": "https://localhost:8080/"
        },
        "id": "MKKR87rJPEsQ",
        "outputId": "5d8421b0-69d4-44a7-980f-92993fecddec"
      },
      "execution_count": 14,
      "outputs": [
        {
          "output_type": "execute_result",
          "data": {
            "text/plain": [
              "<tf.Tensor: shape=(4, 10), dtype=int64, numpy=\n",
              "array([[ 7,  4,  2,  5,  3, 11,  0,  0,  0,  0],\n",
              "       [ 7,  4,  2,  8,  3, 10,  3, 14,  3, 15],\n",
              "       [ 6,  4,  2,  5,  3,  2,  8,  0,  0,  0],\n",
              "       [13,  6,  9,  2,  5, 12, 16,  0,  0,  0]])>"
            ]
          },
          "metadata": {},
          "execution_count": 14
        }
      ]
    },
    {
      "cell_type": "code",
      "source": [
        "vectorization_layer.get_vocabulary()"
      ],
      "metadata": {
        "colab": {
          "base_uri": "https://localhost:8080/"
        },
        "id": "x0hd6UY6PGRN",
        "outputId": "a0070798-d718-48d1-9767-4c42531f55a4"
      },
      "execution_count": 15,
      "outputs": [
        {
          "output_type": "execute_result",
          "data": {
            "text/plain": [
              "['',\n",
              " '[UNK]',\n",
              " np.str_('my'),\n",
              " np.str_('and'),\n",
              " np.str_('love'),\n",
              " np.str_('dog'),\n",
              " np.str_('you'),\n",
              " np.str_('i'),\n",
              " np.str_('cat'),\n",
              " np.str_('think'),\n",
              " np.str_('simba'),\n",
              " np.str_('papi'),\n",
              " np.str_('is'),\n",
              " np.str_('do'),\n",
              " np.str_('chutki'),\n",
              " np.str_('buffy'),\n",
              " np.str_('amazing')]"
            ]
          },
          "metadata": {},
          "execution_count": 15
        }
      ]
    },
    {
      "cell_type": "code",
      "source": [
        "# word to index mapping\n",
        "word2index = {}\n",
        "for index, word in enumerate(vectorization_layer.get_vocabulary()):\n",
        "    word2index[word] = index\n",
        "\n",
        "print(word2index)"
      ],
      "metadata": {
        "colab": {
          "base_uri": "https://localhost:8080/"
        },
        "id": "_ErwvPfLQTHq",
        "outputId": "b10fb00d-1aa3-4c1a-e1c0-2fd8303200b8"
      },
      "execution_count": 20,
      "outputs": [
        {
          "output_type": "stream",
          "name": "stdout",
          "text": [
            "{'': 0, '[UNK]': 1, np.str_('my'): 2, np.str_('and'): 3, np.str_('love'): 4, np.str_('dog'): 5, np.str_('you'): 6, np.str_('i'): 7, np.str_('cat'): 8, np.str_('think'): 9, np.str_('simba'): 10, np.str_('papi'): 11, np.str_('is'): 12, np.str_('do'): 13, np.str_('chutki'): 14, np.str_('buffy'): 15, np.str_('amazing'): 16}\n"
          ]
        }
      ]
    },
    {
      "cell_type": "code",
      "source": [
        "# truncation with output = 3\n",
        "text_vectorization_layer_truncated = TextVectorization(max_tokens=MAX_VOCAB_SIZE,\n",
        "                                         output_mode=\"int\",\n",
        "                                         output_sequence_length=3\n",
        "                                        )\n",
        "text_vectorization_layer_truncated.adapt(sentences)\n",
        "sequences = text_vectorization_layer_truncated(sentences)"
      ],
      "metadata": {
        "id": "RYXLNkShQoqE"
      },
      "execution_count": 27,
      "outputs": []
    },
    {
      "cell_type": "code",
      "source": [
        "sequences"
      ],
      "metadata": {
        "colab": {
          "base_uri": "https://localhost:8080/"
        },
        "id": "7jjJ6RSFQxYf",
        "outputId": "89cd0e91-4dda-4fad-e13f-e0ba37f2d06a"
      },
      "execution_count": 28,
      "outputs": [
        {
          "output_type": "execute_result",
          "data": {
            "text/plain": [
              "<tf.Tensor: shape=(4, 3), dtype=int64, numpy=\n",
              "array([[ 7,  4,  2],\n",
              "       [ 7,  4,  2],\n",
              "       [ 6,  4,  2],\n",
              "       [13,  6,  9]])>"
            ]
          },
          "metadata": {},
          "execution_count": 28
        }
      ]
    },
    {
      "cell_type": "code",
      "source": [
        "# ragged output\n",
        "vectorization_layer_ragged = TextVectorization(\n",
        "                                         max_tokens=MAX_VOCAB_SIZE,\n",
        "                                         ragged = True\n",
        "                                        )\n",
        "vectorization_layer_ragged.adapt(sentences)\n",
        "sequences = vectorization_layer_ragged(sentences)"
      ],
      "metadata": {
        "id": "q3SuN-4abxhI"
      },
      "execution_count": 31,
      "outputs": []
    },
    {
      "cell_type": "code",
      "source": [
        "sequences"
      ],
      "metadata": {
        "colab": {
          "base_uri": "https://localhost:8080/"
        },
        "id": "-EFjlxxLc_pI",
        "outputId": "e2bdf9cb-70fb-4049-e1ac-bd91cc6ced38"
      },
      "execution_count": 32,
      "outputs": [
        {
          "output_type": "execute_result",
          "data": {
            "text/plain": [
              "<tf.RaggedTensor [[7, 4, 2, 5, 3, 11], [7, 4, 2, 8, 3, 10, 3, 14, 3, 15],\n",
              " [6, 4, 2, 5, 3, 2, 8], [13, 6, 9, 2, 5, 12, 16]]>"
            ]
          },
          "metadata": {},
          "execution_count": 32
        }
      ]
    },
    {
      "cell_type": "code",
      "source": [],
      "metadata": {
        "id": "McGzRoKldAo_"
      },
      "execution_count": null,
      "outputs": []
    }
  ]
}